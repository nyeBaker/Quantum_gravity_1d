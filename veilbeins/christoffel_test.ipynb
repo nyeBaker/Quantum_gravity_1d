{
 "cells": [
  {
   "cell_type": "code",
   "execution_count": 1,
   "metadata": {},
   "outputs": [],
   "source": [
    "from sympy import diag, sin, symbols, cos\n",
    "\n",
    "from einsteinpy.symbolic import constants\n",
    "from einsteinpy.symbolic.metric import MetricTensor\n",
    "from einsteinpy.symbolic import ChristoffelSymbols, MetricTensor, veilbeins\n",
    "from einsteinpy.symbolic.predefined import minkowski\n",
    "from einsteinpy.symbolic import spinConnections,veilbeins\n",
    "\n",
    "def MinkowskiCartesian_2d(c=constants.c):\n",
    "    \"\"\"\n",
    "    Minkowski(flat) space-time in Cartesian coordinates. Space-time without any curvature or matter.\n",
    "\n",
    "    Parameters\n",
    "    ----------\n",
    "    c : ~sympy.core.basic.Basic or int or float\n",
    "        Any value to assign to speed of light. Defaults to 'c'.\n",
    "\n",
    "\n",
    "    \"\"\"\n",
    "    coords = symbols(\"t x\")\n",
    "    t, x = coords\n",
    "    metric = diag(\n",
    "        -1,\n",
    "        1/x\n",
    "    ).tolist()\n",
    "    return MetricTensor(metric, coords, \"ll\", name=\"AntiDeSitterMetric\")\n"
   ]
  },
  {
   "cell_type": "code",
   "execution_count": 2,
   "metadata": {},
   "outputs": [],
   "source": [
    "test = MinkowskiCartesian_2d()"
   ]
  },
  {
   "cell_type": "code",
   "execution_count": 3,
   "metadata": {},
   "outputs": [],
   "source": [
    "sch = MinkowskiCartesian_2d()\n",
    "chl = ChristoffelSymbols.from_metric(sch)\n",
    "mat = chl.tensor()"
   ]
  },
  {
   "cell_type": "code",
   "execution_count": 4,
   "metadata": {},
   "outputs": [
    {
     "data": {
      "text/plain": [
       "ChristoffelSymbols[[[0, 0], [0, 0]], [[0, 0], [0, -1/(2*x)]]]"
      ]
     },
     "execution_count": 4,
     "metadata": {},
     "output_type": "execute_result"
    }
   ],
   "source": [
    "chl"
   ]
  },
  {
   "cell_type": "code",
   "execution_count": 5,
   "metadata": {},
   "outputs": [
    {
     "data": {
      "text/latex": [
       "$\\displaystyle \\left[\\begin{matrix}\\left[\\begin{matrix}0 & 0\\\\0 & 0\\end{matrix}\\right] & \\left[\\begin{matrix}0 & 0\\\\0 & - \\frac{1}{2 x}\\end{matrix}\\right]\\end{matrix}\\right]$"
      ],
      "text/plain": [
       "[[[0, 0], [0, 0]], [[0, 0], [0, -1/(2*x)]]]"
      ]
     },
     "execution_count": 5,
     "metadata": {},
     "output_type": "execute_result"
    }
   ],
   "source": [
    "mat"
   ]
  },
  {
   "cell_type": "code",
   "execution_count": 6,
   "metadata": {},
   "outputs": [],
   "source": [
    "e = veilbeins.from_metric(sch)"
   ]
  },
  {
   "cell_type": "code",
   "execution_count": 7,
   "metadata": {},
   "outputs": [
    {
     "data": {
      "text/plain": [
       "[[I, 0], [0, sqrt(1/x)]]"
      ]
     },
     "execution_count": 7,
     "metadata": {},
     "output_type": "execute_result"
    }
   ],
   "source": [
    "e"
   ]
  },
  {
   "cell_type": "code",
   "execution_count": 8,
   "metadata": {},
   "outputs": [
    {
     "data": {
      "text/plain": [
       "MetricTensor[[-1, 0], [0, 1/x]]"
      ]
     },
     "execution_count": 8,
     "metadata": {},
     "output_type": "execute_result"
    }
   ],
   "source": [
    "sch"
   ]
  },
  {
   "cell_type": "code",
   "execution_count": 9,
   "metadata": {},
   "outputs": [],
   "source": [
    "m = minkowski.MinkowskiCartesian()"
   ]
  },
  {
   "cell_type": "code",
   "execution_count": null,
   "metadata": {},
   "outputs": [],
   "source": []
  },
  {
   "cell_type": "code",
   "execution_count": 10,
   "metadata": {},
   "outputs": [
    {
     "name": "stdout",
     "output_type": "stream",
     "text": [
      "[[I, 0], [0, sqrt(1/x)]]\n"
     ]
    }
   ],
   "source": [
    "test_veilbeins = veilbeins.from_metric(test)\n",
    "print(test_veilbeins)"
   ]
  },
  {
   "cell_type": "code",
   "execution_count": 11,
   "metadata": {},
   "outputs": [
    {
     "ename": "AttributeError",
     "evalue": "'list' object has no attribute 'tensor'",
     "output_type": "error",
     "traceback": [
      "\u001b[0;31m---------------------------------------------------------------------------\u001b[0m",
      "\u001b[0;31mAttributeError\u001b[0m                            Traceback (most recent call last)",
      "\u001b[0;32m<ipython-input-11-9ee37f6560e3>\u001b[0m in \u001b[0;36m<module>\u001b[0;34m\u001b[0m\n\u001b[0;32m----> 1\u001b[0;31m \u001b[0mtest_spinConnections\u001b[0m \u001b[0;34m=\u001b[0m \u001b[0mspinConnections\u001b[0m\u001b[0;34m.\u001b[0m\u001b[0mfrom_metric\u001b[0m\u001b[0;34m(\u001b[0m\u001b[0mtest\u001b[0m\u001b[0;34m)\u001b[0m\u001b[0;34m\u001b[0m\u001b[0;34m\u001b[0m\u001b[0m\n\u001b[0m\u001b[1;32m      2\u001b[0m \u001b[0mprint\u001b[0m\u001b[0;34m(\u001b[0m\u001b[0mtest_spinConnections\u001b[0m\u001b[0;34m)\u001b[0m\u001b[0;34m\u001b[0m\u001b[0;34m\u001b[0m\u001b[0m\n",
      "\u001b[0;32m~/.local/lib/python3.8/site-packages/einsteinpy/symbolic/spinConnections.py\u001b[0m in \u001b[0;36mfrom_metric\u001b[0;34m(self, metric)\u001b[0m\n\u001b[1;32m     65\u001b[0m         \u001b[0mdims\u001b[0m \u001b[0;34m=\u001b[0m \u001b[0mmetric\u001b[0m\u001b[0;34m.\u001b[0m\u001b[0mdims\u001b[0m\u001b[0;34m\u001b[0m\u001b[0;34m\u001b[0m\u001b[0m\n\u001b[1;32m     66\u001b[0m         \u001b[0mchl\u001b[0m \u001b[0;34m=\u001b[0m \u001b[0mChristoffelSymbols\u001b[0m\u001b[0;34m.\u001b[0m\u001b[0mfrom_metric\u001b[0m\u001b[0;34m(\u001b[0m\u001b[0mmetric\u001b[0m\u001b[0;34m)\u001b[0m\u001b[0;34m.\u001b[0m\u001b[0mtensor\u001b[0m\u001b[0;34m(\u001b[0m\u001b[0;34m)\u001b[0m\u001b[0;34m\u001b[0m\u001b[0;34m\u001b[0m\u001b[0m\n\u001b[0;32m---> 67\u001b[0;31m         \u001b[0me_ul\u001b[0m \u001b[0;34m=\u001b[0m \u001b[0mveilbeins\u001b[0m\u001b[0;34m.\u001b[0m\u001b[0mfrom_metric\u001b[0m\u001b[0;34m(\u001b[0m\u001b[0mmetric\u001b[0m\u001b[0;34m)\u001b[0m\u001b[0;34m.\u001b[0m\u001b[0mtensor\u001b[0m\u001b[0;34m(\u001b[0m\u001b[0;34m)\u001b[0m\u001b[0;34m\u001b[0m\u001b[0;34m\u001b[0m\u001b[0m\n\u001b[0m\u001b[1;32m     68\u001b[0m         \u001b[0me_uu\u001b[0m \u001b[0;34m=\u001b[0m \u001b[0mveilbeins\u001b[0m\u001b[0;34m.\u001b[0m\u001b[0mfrom_metric\u001b[0m\u001b[0;34m(\u001b[0m\u001b[0mmetric\u001b[0m\u001b[0;34m)\u001b[0m\u001b[0;34m.\u001b[0m\u001b[0mtensor\u001b[0m\u001b[0;34m(\u001b[0m\u001b[0;34m)\u001b[0m\u001b[0;34m\u001b[0m\u001b[0;34m\u001b[0m\u001b[0m\n\u001b[1;32m     69\u001b[0m \u001b[0;34m\u001b[0m\u001b[0m\n",
      "\u001b[0;31mAttributeError\u001b[0m: 'list' object has no attribute 'tensor'"
     ]
    }
   ],
   "source": [
    "test_spinConnections = spinConnections.from_metric(test)\n",
    "print(test_spinConnections)"
   ]
  }
 ],
 "metadata": {
  "kernelspec": {
   "display_name": "Python 3",
   "language": "python",
   "name": "python3"
  },
  "language_info": {
   "codemirror_mode": {
    "name": "ipython",
    "version": 3
   },
   "file_extension": ".py",
   "mimetype": "text/x-python",
   "name": "python",
   "nbconvert_exporter": "python",
   "pygments_lexer": "ipython3",
   "version": "3.8.10"
  }
 },
 "nbformat": 4,
 "nbformat_minor": 4
}
